{
 "cells": [
  {
   "cell_type": "code",
   "execution_count": 2,
   "metadata": {},
   "outputs": [],
   "source": [
    "import pandas as pd"
   ]
  },
  {
   "cell_type": "code",
   "execution_count": 2,
   "metadata": {},
   "outputs": [],
   "source": [
    "ori_df = pd.read_excel(\"./data/dialysis/train_dialysis.xlsx\")\n",
    "df = pd.read_excel(\"./data/dialysis/二分類14天跨人跨天測試集v2.xlsx\", sheet_name=\"工作表1\")\n",
    "selected_df = df[ ori_df.columns ]\n",
    "selected_df.to_csv(\"./hw1/dialysis-binary-14-ind-xpeople.csv\", index=False)"
   ]
  },
  {
   "cell_type": "code",
   "execution_count": 15,
   "metadata": {},
   "outputs": [],
   "source": [
    "ori_df = pd.read_csv(\"./data/dialysis/Regression_2weeks_data_v2.csv\")\n",
    "df = pd.read_excel(\"./data/dialysis/回歸14天跨人跨天測試集v2.xlsx\", sheet_name=\"跨天測試集\")\n",
    "selected_df = df[ ori_df.columns ]\n",
    "selected_df.to_csv(\"./hw2/dialysis-regression-14-ind-xday.csv\", index=False)"
   ]
  },
  {
   "cell_type": "code",
   "execution_count": 12,
   "metadata": {},
   "outputs": [],
   "source": [
    "clinical_df = pd.read_excel(\"./data/tcga/stad_tcga_clinical_data.xlsx\", \"工作表1\")\n",
    "sequence_df = pd.read_excel(\"./data/tcga/tcga_stad.xlsx\")"
   ]
  },
  {
   "cell_type": "code",
   "execution_count": 19,
   "metadata": {},
   "outputs": [],
   "source": [
    "clinical_df_2 = clinical_df.set_index(\"Patient ID\")\n",
    "sequence_df_2 = sequence_df.rename(columns={'gene_id': \"Patient ID\"}).set_index(\"Patient ID\")"
   ]
  },
  {
   "cell_type": "code",
   "execution_count": 21,
   "metadata": {},
   "outputs": [
    {
     "data": {
      "text/plain": [
       "(440, 4)"
      ]
     },
     "metadata": {},
     "output_type": "display_data"
    },
    {
     "data": {
      "text/plain": [
       "(247, 16306)"
      ]
     },
     "metadata": {},
     "output_type": "display_data"
    }
   ],
   "source": [
    "display(clinical_df_2.shape, sequence_df_2.shape)"
   ]
  },
  {
   "cell_type": "code",
   "execution_count": 25,
   "metadata": {},
   "outputs": [],
   "source": [
    "merged_df = pd.merge(sequence_df_2, clinical_df_2[['Disease Free Status', 'ajcc_pathologic_m']], left_index=True, right_index=True)"
   ]
  },
  {
   "cell_type": "code",
   "execution_count": 27,
   "metadata": {},
   "outputs": [
    {
     "data": {
      "text/plain": [
       "(247, 16308)"
      ]
     },
     "execution_count": 27,
     "metadata": {},
     "output_type": "execute_result"
    }
   ],
   "source": [
    "merged_df.shape"
   ]
  },
  {
   "cell_type": "code",
   "execution_count": 28,
   "metadata": {},
   "outputs": [],
   "source": [
    "merged_df.fillna(\"\").to_csv(\"./data/tcga/tcga_all.csv\")"
   ]
  },
  {
   "cell_type": "code",
   "execution_count": null,
   "metadata": {},
   "outputs": [],
   "source": []
  }
 ],
 "metadata": {
  "kernelspec": {
   "display_name": "ml-exp",
   "language": "python",
   "name": "python3"
  },
  "language_info": {
   "codemirror_mode": {
    "name": "ipython",
    "version": 3
   },
   "file_extension": ".py",
   "mimetype": "text/x-python",
   "name": "python",
   "nbconvert_exporter": "python",
   "pygments_lexer": "ipython3",
   "version": "3.10.8"
  },
  "orig_nbformat": 4,
  "vscode": {
   "interpreter": {
    "hash": "ae0b0ae2c6da0805ef1653fbc63a03fd843bdd965278f8a5845e26c511ff151a"
   }
  }
 },
 "nbformat": 4,
 "nbformat_minor": 2
}
