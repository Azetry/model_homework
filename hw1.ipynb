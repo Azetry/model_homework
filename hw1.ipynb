{
 "cells": [
  {
   "cell_type": "code",
   "execution_count": 1,
   "metadata": {},
   "outputs": [],
   "source": [
    "import pandas as pd\n",
    "import numpy as np\n",
    "import matplotlib.pyplot as plt\n",
    "from sklearn.model_selection import train_test_split\n",
    "from sklearn import preprocessing\n",
    "from sklearn.svm import SVC\n",
    "from sklearn.model_selection import GridSearchCV\n",
    "from sklearn.neighbors import KNeighborsClassifier\n",
    "from sklearn.metrics import plot_confusion_matrix\n",
    "from sklearn.metrics import accuracy_score,confusion_matrix\n",
    "from scipy.stats import chi2_contingency\n",
    "from scipy.stats import mannwhitneyu\n",
    "import math\n",
    "from sklearn.metrics import roc_curve, auc\n",
    "from sklearn.model_selection import cross_val_score\n",
    "from sklearn.model_selection import cross_validate\n",
    "from sklearn.metrics import make_scorer\n",
    "from sklearn.metrics import confusion_matrix\n",
    "import joblib"
   ]
  },
  {
   "cell_type": "code",
   "execution_count": 2,
   "metadata": {},
   "outputs": [],
   "source": [
    "df = pd.read_excel('./data/dialysis/train_dialysis.xlsx')\n",
    "train_df, test_df = train_test_split(df, test_size = 0.3, random_state = 0)"
   ]
  },
  {
   "cell_type": "code",
   "execution_count": 3,
   "metadata": {},
   "outputs": [
    {
     "name": "stdout",
     "output_type": "stream",
     "text": [
      "   features   p_value\n",
      "0        d1       0.0\n",
      "1        d2       0.0\n",
      "2        d3       0.0\n",
      "3        d4  0.003324\n",
      "4        d5   0.00018\n",
      "5        d6       0.0\n",
      "6        d7       0.0\n",
      "7        d8       0.0\n",
      "8        d9       0.0\n",
      "9       d10       1.0\n",
      "10      d11       0.0\n",
      "11      d12  0.497714\n",
      "12      d13  0.041647\n",
      "13      d14       0.0\n",
      "14      d15       0.0\n",
      "15      d16       1.0\n",
      "16      d17  0.693455\n",
      "17      d18  0.400225\n",
      "18      d19  0.540064\n",
      "19      d20       0.0\n",
      "20      d21       0.0\n",
      "21      d22       0.0\n",
      "22      d23  0.000173\n",
      "23      d24  0.046561\n",
      "24      d25       1.0\n",
      "25      d26  0.876397\n",
      "26      d27  0.032762\n",
      "27      d28       0.0\n",
      "28      d29       0.0\n",
      "29      d30       0.0\n",
      "30      d31       0.0\n",
      "31      d32       0.0\n",
      "32      d33       0.0\n",
      "33      d34  0.007811\n",
      "34      d35    0.7026\n",
      "35      d36  0.432851\n",
      "36      d37       0.0\n",
      "37      d38  0.271168\n",
      "38      d39  0.032762\n",
      "39    label       0.0\n"
     ]
    }
   ],
   "source": [
    "cat_df = train_df.iloc[:,0:39]\n",
    "cat_df = pd.concat([cat_df, train_df['label']], axis = 1)\n",
    "\n",
    "cat_p_value = []\n",
    "cat_df = cat_df[cat_df['label'] >= 0]\n",
    "titles = list(cat_df.columns)\n",
    "for i in titles:\n",
    "    table = pd.crosstab(cat_df['label'],cat_df[i])\n",
    "    chi2, p, dof, expected = chi2_contingency(table)\n",
    "    cat_p_value.append(p) \n",
    "d1_d39_p_value = pd.DataFrame([titles, cat_p_value]).T\n",
    "d1_d39_p_value = d1_d39_p_value.rename(columns = {0:'features', 1:'p_value'})\n",
    "print(d1_d39_p_value)"
   ]
  },
  {
   "cell_type": "code",
   "execution_count": 4,
   "metadata": {},
   "outputs": [
    {
     "data": {
      "text/plain": [
       "29"
      ]
     },
     "execution_count": 4,
     "metadata": {},
     "output_type": "execute_result"
    }
   ],
   "source": [
    "len(d1_d39_p_value[ d1_d39_p_value['p_value'] < 0.05])"
   ]
  },
  {
   "cell_type": "code",
   "execution_count": 5,
   "metadata": {},
   "outputs": [
    {
     "name": "stdout",
     "output_type": "stream",
     "text": [
      "   features   p_value\n",
      "0       c40  0.821114\n",
      "1       c41  0.111405\n",
      "2       c42  0.288677\n",
      "3       c43  0.000193\n",
      "4       c44  0.508285\n",
      "5       c45  0.013147\n",
      "6       c46  0.045857\n",
      "7       c47  0.193075\n",
      "8       c48  0.402079\n",
      "9       c49  0.029993\n",
      "10      c50  0.000001\n",
      "11      c51       0.0\n",
      "12      c52  0.523141\n",
      "13      c53       0.0\n",
      "14      c54  0.653911\n",
      "15      c55  0.000198\n",
      "16      c56       0.0\n",
      "17      c57  0.055049\n",
      "18      c58  0.112331\n",
      "19      c59       0.0\n",
      "20      c60       0.0\n",
      "21      c61  0.012254\n",
      "22      c62       0.0\n",
      "23      c63  0.074215\n",
      "24      c64       0.0\n",
      "25      c65       0.0\n",
      "26      c66       0.0\n",
      "27      c67  0.000014\n",
      "28      c68  0.746743\n",
      "29      c69  0.134903\n",
      "30      c70       0.0\n",
      "31      c71       0.0\n",
      "32      c72  0.000003\n",
      "33      c73       0.0\n",
      "34      c74  0.000066\n",
      "35      c75  0.004319\n",
      "36      c76  0.961348\n",
      "37      c77  0.663361\n",
      "38      c78  0.004057\n",
      "39      c79  0.379648\n",
      "40      c80       0.0\n",
      "41      c81  0.464958\n",
      "42      c82  0.016304\n",
      "43      c83  0.001049\n",
      "44      c84       0.0\n",
      "45      c85  0.560146\n",
      "46      c86  0.065257\n",
      "47      c87  0.934675\n",
      "48      c88  0.105675\n",
      "49      c89   0.00878\n",
      "50      c90       0.0\n",
      "51    label       0.0\n"
     ]
    }
   ],
   "source": [
    "cont_df = train_df.iloc[:,39:90]\n",
    "cont_df = pd.concat([cont_df, train_df['label']], axis = 1)\n",
    "cont_df = cont_df[cont_df['label'] >= 0]\n",
    "titles = list(cont_df.columns)\n",
    "\n",
    "c_p_value = []\n",
    "for i in titles:\n",
    "    value1=[]\n",
    "    value0=[]\n",
    "    my_col = cont_df[[i,'label']]\n",
    "    for j in range(0, my_col.shape[0]):\n",
    "        if (str(my_col.iloc[j,1]) == '1'):\n",
    "            value1.append(my_col.iloc[j,0])\n",
    "        elif (str(my_col.iloc[j,1]) == '-1'):\n",
    "            continue\n",
    "        else:\n",
    "            value0.append(my_col.iloc[j,0])\n",
    "    result = mannwhitneyu(value0, value1, alternative= 'two-sided') \n",
    "    c_p_value.append(result[1])\n",
    "c40_c90_p_value = pd.DataFrame([titles, c_p_value]).T\n",
    "c40_c90_p_value = c40_c90_p_value.rename(columns = {0:'features', 1:'p_value'})\n",
    "print(c40_c90_p_value)"
   ]
  },
  {
   "cell_type": "code",
   "execution_count": 6,
   "metadata": {},
   "outputs": [
    {
     "data": {
      "text/plain": [
       "31"
      ]
     },
     "execution_count": 6,
     "metadata": {},
     "output_type": "execute_result"
    }
   ],
   "source": [
    "len(c40_c90_p_value[ c40_c90_p_value['p_value'] < 0.05])"
   ]
  },
  {
   "cell_type": "code",
   "execution_count": 7,
   "metadata": {},
   "outputs": [],
   "source": [
    "features = list( d1_d39_p_value[ d1_d39_p_value['p_value'] < 0.05].iloc[:-1,:]['features'] ) + list( c40_c90_p_value[ c40_c90_p_value['p_value'] < 0.05].iloc[:-1,:]['features'] )"
   ]
  },
  {
   "cell_type": "code",
   "execution_count": 8,
   "metadata": {},
   "outputs": [],
   "source": [
    "with open(\"./hw1/dialysis-binary-features.csv\", \"w\") as f:\n",
    "    for idx, feature in enumerate(features):\n",
    "        if idx < len(features)-1: f.write(feature+\",\")\n",
    "        else: f.write(feature)"
   ]
  },
  {
   "cell_type": "code",
   "execution_count": 9,
   "metadata": {},
   "outputs": [],
   "source": [
    "scaler_Std = joblib.load(\"./hw1/dialysis-binary-std.bin\")"
   ]
  },
  {
   "cell_type": "code",
   "execution_count": 10,
   "metadata": {},
   "outputs": [],
   "source": [
    "X_std = pd.DataFrame(scaler_Std.transform(df.iloc[:, :-1]), columns=df.iloc[:, :-1].columns)\n",
    "X_std = X_std[features]\n",
    "y = df.label"
   ]
  },
  {
   "cell_type": "code",
   "execution_count": 11,
   "metadata": {},
   "outputs": [
    {
     "data": {
      "text/html": [
       "<div>\n",
       "<style scoped>\n",
       "    .dataframe tbody tr th:only-of-type {\n",
       "        vertical-align: middle;\n",
       "    }\n",
       "\n",
       "    .dataframe tbody tr th {\n",
       "        vertical-align: top;\n",
       "    }\n",
       "\n",
       "    .dataframe thead th {\n",
       "        text-align: right;\n",
       "    }\n",
       "</style>\n",
       "<table border=\"1\" class=\"dataframe\">\n",
       "  <thead>\n",
       "    <tr style=\"text-align: right;\">\n",
       "      <th></th>\n",
       "      <th>d1</th>\n",
       "      <th>d2</th>\n",
       "      <th>d3</th>\n",
       "      <th>d4</th>\n",
       "      <th>d5</th>\n",
       "      <th>d6</th>\n",
       "      <th>d7</th>\n",
       "      <th>d8</th>\n",
       "      <th>d9</th>\n",
       "      <th>d11</th>\n",
       "      <th>...</th>\n",
       "      <th>c73</th>\n",
       "      <th>c74</th>\n",
       "      <th>c75</th>\n",
       "      <th>c78</th>\n",
       "      <th>c80</th>\n",
       "      <th>c82</th>\n",
       "      <th>c83</th>\n",
       "      <th>c84</th>\n",
       "      <th>c89</th>\n",
       "      <th>c90</th>\n",
       "    </tr>\n",
       "  </thead>\n",
       "  <tbody>\n",
       "    <tr>\n",
       "      <th>0</th>\n",
       "      <td>-0.540384</td>\n",
       "      <td>-0.355325</td>\n",
       "      <td>0.982603</td>\n",
       "      <td>-0.570234</td>\n",
       "      <td>-0.215977</td>\n",
       "      <td>0.18956</td>\n",
       "      <td>0.07188</td>\n",
       "      <td>3.396669</td>\n",
       "      <td>-0.799401</td>\n",
       "      <td>1.002883</td>\n",
       "      <td>...</td>\n",
       "      <td>0.318925</td>\n",
       "      <td>-1.016918</td>\n",
       "      <td>-0.408162</td>\n",
       "      <td>-0.843985</td>\n",
       "      <td>0.020459</td>\n",
       "      <td>0.709738</td>\n",
       "      <td>-0.496845</td>\n",
       "      <td>0.73619</td>\n",
       "      <td>0.252568</td>\n",
       "      <td>-0.154431</td>\n",
       "    </tr>\n",
       "    <tr>\n",
       "      <th>1</th>\n",
       "      <td>-0.540384</td>\n",
       "      <td>-0.355325</td>\n",
       "      <td>0.982603</td>\n",
       "      <td>-0.570234</td>\n",
       "      <td>-0.215977</td>\n",
       "      <td>0.18956</td>\n",
       "      <td>0.07188</td>\n",
       "      <td>3.396669</td>\n",
       "      <td>-0.799401</td>\n",
       "      <td>1.002883</td>\n",
       "      <td>...</td>\n",
       "      <td>-0.179226</td>\n",
       "      <td>-1.016918</td>\n",
       "      <td>-0.408162</td>\n",
       "      <td>-0.843985</td>\n",
       "      <td>0.020459</td>\n",
       "      <td>0.709738</td>\n",
       "      <td>-0.496845</td>\n",
       "      <td>0.73619</td>\n",
       "      <td>0.252568</td>\n",
       "      <td>-0.386456</td>\n",
       "    </tr>\n",
       "    <tr>\n",
       "      <th>2</th>\n",
       "      <td>-0.540384</td>\n",
       "      <td>-0.355325</td>\n",
       "      <td>0.982603</td>\n",
       "      <td>-0.570234</td>\n",
       "      <td>-0.215977</td>\n",
       "      <td>0.18956</td>\n",
       "      <td>0.07188</td>\n",
       "      <td>3.396669</td>\n",
       "      <td>-0.799401</td>\n",
       "      <td>1.002883</td>\n",
       "      <td>...</td>\n",
       "      <td>-0.179226</td>\n",
       "      <td>-1.016918</td>\n",
       "      <td>-0.408162</td>\n",
       "      <td>-0.843985</td>\n",
       "      <td>0.020459</td>\n",
       "      <td>0.709738</td>\n",
       "      <td>-0.496845</td>\n",
       "      <td>0.73619</td>\n",
       "      <td>0.252568</td>\n",
       "      <td>-0.438017</td>\n",
       "    </tr>\n",
       "    <tr>\n",
       "      <th>3</th>\n",
       "      <td>-0.540384</td>\n",
       "      <td>-0.355325</td>\n",
       "      <td>0.982603</td>\n",
       "      <td>-0.570234</td>\n",
       "      <td>-0.215977</td>\n",
       "      <td>0.18956</td>\n",
       "      <td>0.07188</td>\n",
       "      <td>3.396669</td>\n",
       "      <td>-0.799401</td>\n",
       "      <td>1.002883</td>\n",
       "      <td>...</td>\n",
       "      <td>-0.179226</td>\n",
       "      <td>-1.016918</td>\n",
       "      <td>-0.408162</td>\n",
       "      <td>-0.843985</td>\n",
       "      <td>0.020459</td>\n",
       "      <td>0.709738</td>\n",
       "      <td>-0.496845</td>\n",
       "      <td>0.73619</td>\n",
       "      <td>0.252568</td>\n",
       "      <td>-0.386456</td>\n",
       "    </tr>\n",
       "    <tr>\n",
       "      <th>4</th>\n",
       "      <td>-0.540384</td>\n",
       "      <td>-0.355325</td>\n",
       "      <td>0.982603</td>\n",
       "      <td>-0.570234</td>\n",
       "      <td>-0.215977</td>\n",
       "      <td>0.18956</td>\n",
       "      <td>0.07188</td>\n",
       "      <td>3.396669</td>\n",
       "      <td>-0.799401</td>\n",
       "      <td>1.002883</td>\n",
       "      <td>...</td>\n",
       "      <td>-0.091831</td>\n",
       "      <td>-1.016918</td>\n",
       "      <td>-0.408162</td>\n",
       "      <td>-0.843985</td>\n",
       "      <td>0.020459</td>\n",
       "      <td>0.709738</td>\n",
       "      <td>-0.496845</td>\n",
       "      <td>0.73619</td>\n",
       "      <td>0.252568</td>\n",
       "      <td>-0.386456</td>\n",
       "    </tr>\n",
       "  </tbody>\n",
       "</table>\n",
       "<p>5 rows × 58 columns</p>\n",
       "</div>"
      ],
      "text/plain": [
       "         d1        d2        d3        d4        d5       d6       d7  \\\n",
       "0 -0.540384 -0.355325  0.982603 -0.570234 -0.215977  0.18956  0.07188   \n",
       "1 -0.540384 -0.355325  0.982603 -0.570234 -0.215977  0.18956  0.07188   \n",
       "2 -0.540384 -0.355325  0.982603 -0.570234 -0.215977  0.18956  0.07188   \n",
       "3 -0.540384 -0.355325  0.982603 -0.570234 -0.215977  0.18956  0.07188   \n",
       "4 -0.540384 -0.355325  0.982603 -0.570234 -0.215977  0.18956  0.07188   \n",
       "\n",
       "         d8        d9       d11  ...       c73       c74       c75       c78  \\\n",
       "0  3.396669 -0.799401  1.002883  ...  0.318925 -1.016918 -0.408162 -0.843985   \n",
       "1  3.396669 -0.799401  1.002883  ... -0.179226 -1.016918 -0.408162 -0.843985   \n",
       "2  3.396669 -0.799401  1.002883  ... -0.179226 -1.016918 -0.408162 -0.843985   \n",
       "3  3.396669 -0.799401  1.002883  ... -0.179226 -1.016918 -0.408162 -0.843985   \n",
       "4  3.396669 -0.799401  1.002883  ... -0.091831 -1.016918 -0.408162 -0.843985   \n",
       "\n",
       "        c80       c82       c83      c84       c89       c90  \n",
       "0  0.020459  0.709738 -0.496845  0.73619  0.252568 -0.154431  \n",
       "1  0.020459  0.709738 -0.496845  0.73619  0.252568 -0.386456  \n",
       "2  0.020459  0.709738 -0.496845  0.73619  0.252568 -0.438017  \n",
       "3  0.020459  0.709738 -0.496845  0.73619  0.252568 -0.386456  \n",
       "4  0.020459  0.709738 -0.496845  0.73619  0.252568 -0.386456  \n",
       "\n",
       "[5 rows x 58 columns]"
      ]
     },
     "execution_count": 11,
     "metadata": {},
     "output_type": "execute_result"
    }
   ],
   "source": [
    "X_std.head()"
   ]
  },
  {
   "cell_type": "code",
   "execution_count": 12,
   "metadata": {},
   "outputs": [
    {
     "data": {
      "text/html": [
       "<style>#sk-container-id-1 {color: black;background-color: white;}#sk-container-id-1 pre{padding: 0;}#sk-container-id-1 div.sk-toggleable {background-color: white;}#sk-container-id-1 label.sk-toggleable__label {cursor: pointer;display: block;width: 100%;margin-bottom: 0;padding: 0.3em;box-sizing: border-box;text-align: center;}#sk-container-id-1 label.sk-toggleable__label-arrow:before {content: \"▸\";float: left;margin-right: 0.25em;color: #696969;}#sk-container-id-1 label.sk-toggleable__label-arrow:hover:before {color: black;}#sk-container-id-1 div.sk-estimator:hover label.sk-toggleable__label-arrow:before {color: black;}#sk-container-id-1 div.sk-toggleable__content {max-height: 0;max-width: 0;overflow: hidden;text-align: left;background-color: #f0f8ff;}#sk-container-id-1 div.sk-toggleable__content pre {margin: 0.2em;color: black;border-radius: 0.25em;background-color: #f0f8ff;}#sk-container-id-1 input.sk-toggleable__control:checked~div.sk-toggleable__content {max-height: 200px;max-width: 100%;overflow: auto;}#sk-container-id-1 input.sk-toggleable__control:checked~label.sk-toggleable__label-arrow:before {content: \"▾\";}#sk-container-id-1 div.sk-estimator input.sk-toggleable__control:checked~label.sk-toggleable__label {background-color: #d4ebff;}#sk-container-id-1 div.sk-label input.sk-toggleable__control:checked~label.sk-toggleable__label {background-color: #d4ebff;}#sk-container-id-1 input.sk-hidden--visually {border: 0;clip: rect(1px 1px 1px 1px);clip: rect(1px, 1px, 1px, 1px);height: 1px;margin: -1px;overflow: hidden;padding: 0;position: absolute;width: 1px;}#sk-container-id-1 div.sk-estimator {font-family: monospace;background-color: #f0f8ff;border: 1px dotted black;border-radius: 0.25em;box-sizing: border-box;margin-bottom: 0.5em;}#sk-container-id-1 div.sk-estimator:hover {background-color: #d4ebff;}#sk-container-id-1 div.sk-parallel-item::after {content: \"\";width: 100%;border-bottom: 1px solid gray;flex-grow: 1;}#sk-container-id-1 div.sk-label:hover label.sk-toggleable__label {background-color: #d4ebff;}#sk-container-id-1 div.sk-serial::before {content: \"\";position: absolute;border-left: 1px solid gray;box-sizing: border-box;top: 0;bottom: 0;left: 50%;z-index: 0;}#sk-container-id-1 div.sk-serial {display: flex;flex-direction: column;align-items: center;background-color: white;padding-right: 0.2em;padding-left: 0.2em;position: relative;}#sk-container-id-1 div.sk-item {position: relative;z-index: 1;}#sk-container-id-1 div.sk-parallel {display: flex;align-items: stretch;justify-content: center;background-color: white;position: relative;}#sk-container-id-1 div.sk-item::before, #sk-container-id-1 div.sk-parallel-item::before {content: \"\";position: absolute;border-left: 1px solid gray;box-sizing: border-box;top: 0;bottom: 0;left: 50%;z-index: -1;}#sk-container-id-1 div.sk-parallel-item {display: flex;flex-direction: column;z-index: 1;position: relative;background-color: white;}#sk-container-id-1 div.sk-parallel-item:first-child::after {align-self: flex-end;width: 50%;}#sk-container-id-1 div.sk-parallel-item:last-child::after {align-self: flex-start;width: 50%;}#sk-container-id-1 div.sk-parallel-item:only-child::after {width: 0;}#sk-container-id-1 div.sk-dashed-wrapped {border: 1px dashed gray;margin: 0 0.4em 0.5em 0.4em;box-sizing: border-box;padding-bottom: 0.4em;background-color: white;}#sk-container-id-1 div.sk-label label {font-family: monospace;font-weight: bold;display: inline-block;line-height: 1.2em;}#sk-container-id-1 div.sk-label-container {text-align: center;}#sk-container-id-1 div.sk-container {/* jupyter's `normalize.less` sets `[hidden] { display: none; }` but bootstrap.min.css set `[hidden] { display: none !important; }` so we also need the `!important` here to be able to override the default hidden behavior on the sphinx rendered scikit-learn.org. See: https://github.com/scikit-learn/scikit-learn/issues/21755 */display: inline-block !important;position: relative;}#sk-container-id-1 div.sk-text-repr-fallback {display: none;}</style><div id=\"sk-container-id-1\" class=\"sk-top-container\"><div class=\"sk-text-repr-fallback\"><pre>SVC(C=4, gamma=0.125)</pre><b>In a Jupyter environment, please rerun this cell to show the HTML representation or trust the notebook. <br />On GitHub, the HTML representation is unable to render, please try loading this page with nbviewer.org.</b></div><div class=\"sk-container\" hidden><div class=\"sk-item\"><div class=\"sk-estimator sk-toggleable\"><input class=\"sk-toggleable__control sk-hidden--visually\" id=\"sk-estimator-id-1\" type=\"checkbox\" checked><label for=\"sk-estimator-id-1\" class=\"sk-toggleable__label sk-toggleable__label-arrow\">SVC</label><div class=\"sk-toggleable__content\"><pre>SVC(C=4, gamma=0.125)</pre></div></div></div></div></div>"
      ],
      "text/plain": [
       "SVC(C=4, gamma=0.125)"
      ]
     },
     "execution_count": 12,
     "metadata": {},
     "output_type": "execute_result"
    }
   ],
   "source": [
    "svc_model = SVC(kernel = 'rbf', C = 4, gamma = 0.125)  #填入grid search的最佳C、gamma\n",
    "svc_model.fit(X_std, y)"
   ]
  },
  {
   "cell_type": "code",
   "execution_count": 13,
   "metadata": {},
   "outputs": [],
   "source": [
    "train_pred = svc_model.predict(X_std)\n",
    "score_train = svc_model.decision_function(X_std)\n",
    "train_acc = accuracy_score(y, train_pred)\n",
    "tn, fp, fn, tp = confusion_matrix(y, train_pred).ravel()\n",
    "train_specificity = tn / (tn+fp)\n",
    "train_sensitivity = tp / (tp+fn)\n",
    "train_PPV = tp / (tp+fp)\n",
    "train_NPV = tn / (fn+tn)\n",
    "train_MCC = ((tp*tn)-(fp*fn))/math.sqrt((tp+fp)*(tp+fn)*(tn+fp)*(tn+fn))"
   ]
  },
  {
   "cell_type": "code",
   "execution_count": 17,
   "metadata": {},
   "outputs": [
    {
     "data": {
      "text/plain": [
       "0.9244375265317674"
      ]
     },
     "metadata": {},
     "output_type": "display_data"
    },
    {
     "data": {
      "text/plain": [
       "4947"
      ]
     },
     "metadata": {},
     "output_type": "display_data"
    },
    {
     "data": {
      "text/plain": [
       "231"
      ]
     },
     "metadata": {},
     "output_type": "display_data"
    },
    {
     "data": {
      "text/plain": [
       "303"
      ]
     },
     "metadata": {},
     "output_type": "display_data"
    },
    {
     "data": {
      "text/plain": [
       "1586"
      ]
     },
     "metadata": {},
     "output_type": "display_data"
    }
   ],
   "source": [
    "display(train_acc, tn, fp, fn, tp)"
   ]
  },
  {
   "cell_type": "code",
   "execution_count": 14,
   "metadata": {},
   "outputs": [
    {
     "data": {
      "text/plain": [
       "['./hw1/dialysis-binary-svc.model']"
      ]
     },
     "execution_count": 14,
     "metadata": {},
     "output_type": "execute_result"
    }
   ],
   "source": [
    "joblib.dump(svc_model, \"./hw1/dialysis-binary-svc.model\")"
   ]
  },
  {
   "cell_type": "code",
   "execution_count": 15,
   "metadata": {},
   "outputs": [
    {
     "data": {
      "text/html": [
       "<style>#sk-container-id-2 {color: black;background-color: white;}#sk-container-id-2 pre{padding: 0;}#sk-container-id-2 div.sk-toggleable {background-color: white;}#sk-container-id-2 label.sk-toggleable__label {cursor: pointer;display: block;width: 100%;margin-bottom: 0;padding: 0.3em;box-sizing: border-box;text-align: center;}#sk-container-id-2 label.sk-toggleable__label-arrow:before {content: \"▸\";float: left;margin-right: 0.25em;color: #696969;}#sk-container-id-2 label.sk-toggleable__label-arrow:hover:before {color: black;}#sk-container-id-2 div.sk-estimator:hover label.sk-toggleable__label-arrow:before {color: black;}#sk-container-id-2 div.sk-toggleable__content {max-height: 0;max-width: 0;overflow: hidden;text-align: left;background-color: #f0f8ff;}#sk-container-id-2 div.sk-toggleable__content pre {margin: 0.2em;color: black;border-radius: 0.25em;background-color: #f0f8ff;}#sk-container-id-2 input.sk-toggleable__control:checked~div.sk-toggleable__content {max-height: 200px;max-width: 100%;overflow: auto;}#sk-container-id-2 input.sk-toggleable__control:checked~label.sk-toggleable__label-arrow:before {content: \"▾\";}#sk-container-id-2 div.sk-estimator input.sk-toggleable__control:checked~label.sk-toggleable__label {background-color: #d4ebff;}#sk-container-id-2 div.sk-label input.sk-toggleable__control:checked~label.sk-toggleable__label {background-color: #d4ebff;}#sk-container-id-2 input.sk-hidden--visually {border: 0;clip: rect(1px 1px 1px 1px);clip: rect(1px, 1px, 1px, 1px);height: 1px;margin: -1px;overflow: hidden;padding: 0;position: absolute;width: 1px;}#sk-container-id-2 div.sk-estimator {font-family: monospace;background-color: #f0f8ff;border: 1px dotted black;border-radius: 0.25em;box-sizing: border-box;margin-bottom: 0.5em;}#sk-container-id-2 div.sk-estimator:hover {background-color: #d4ebff;}#sk-container-id-2 div.sk-parallel-item::after {content: \"\";width: 100%;border-bottom: 1px solid gray;flex-grow: 1;}#sk-container-id-2 div.sk-label:hover label.sk-toggleable__label {background-color: #d4ebff;}#sk-container-id-2 div.sk-serial::before {content: \"\";position: absolute;border-left: 1px solid gray;box-sizing: border-box;top: 0;bottom: 0;left: 50%;z-index: 0;}#sk-container-id-2 div.sk-serial {display: flex;flex-direction: column;align-items: center;background-color: white;padding-right: 0.2em;padding-left: 0.2em;position: relative;}#sk-container-id-2 div.sk-item {position: relative;z-index: 1;}#sk-container-id-2 div.sk-parallel {display: flex;align-items: stretch;justify-content: center;background-color: white;position: relative;}#sk-container-id-2 div.sk-item::before, #sk-container-id-2 div.sk-parallel-item::before {content: \"\";position: absolute;border-left: 1px solid gray;box-sizing: border-box;top: 0;bottom: 0;left: 50%;z-index: -1;}#sk-container-id-2 div.sk-parallel-item {display: flex;flex-direction: column;z-index: 1;position: relative;background-color: white;}#sk-container-id-2 div.sk-parallel-item:first-child::after {align-self: flex-end;width: 50%;}#sk-container-id-2 div.sk-parallel-item:last-child::after {align-self: flex-start;width: 50%;}#sk-container-id-2 div.sk-parallel-item:only-child::after {width: 0;}#sk-container-id-2 div.sk-dashed-wrapped {border: 1px dashed gray;margin: 0 0.4em 0.5em 0.4em;box-sizing: border-box;padding-bottom: 0.4em;background-color: white;}#sk-container-id-2 div.sk-label label {font-family: monospace;font-weight: bold;display: inline-block;line-height: 1.2em;}#sk-container-id-2 div.sk-label-container {text-align: center;}#sk-container-id-2 div.sk-container {/* jupyter's `normalize.less` sets `[hidden] { display: none; }` but bootstrap.min.css set `[hidden] { display: none !important; }` so we also need the `!important` here to be able to override the default hidden behavior on the sphinx rendered scikit-learn.org. See: https://github.com/scikit-learn/scikit-learn/issues/21755 */display: inline-block !important;position: relative;}#sk-container-id-2 div.sk-text-repr-fallback {display: none;}</style><div id=\"sk-container-id-2\" class=\"sk-top-container\"><div class=\"sk-text-repr-fallback\"><pre>KNeighborsClassifier()</pre><b>In a Jupyter environment, please rerun this cell to show the HTML representation or trust the notebook. <br />On GitHub, the HTML representation is unable to render, please try loading this page with nbviewer.org.</b></div><div class=\"sk-container\" hidden><div class=\"sk-item\"><div class=\"sk-estimator sk-toggleable\"><input class=\"sk-toggleable__control sk-hidden--visually\" id=\"sk-estimator-id-2\" type=\"checkbox\" checked><label for=\"sk-estimator-id-2\" class=\"sk-toggleable__label sk-toggleable__label-arrow\">KNeighborsClassifier</label><div class=\"sk-toggleable__content\"><pre>KNeighborsClassifier()</pre></div></div></div></div></div>"
      ],
      "text/plain": [
       "KNeighborsClassifier()"
      ]
     },
     "execution_count": 15,
     "metadata": {},
     "output_type": "execute_result"
    }
   ],
   "source": [
    "knn_model = KNeighborsClassifier()\n",
    "knn_model.fit(X_std,y)"
   ]
  },
  {
   "cell_type": "code",
   "execution_count": 19,
   "metadata": {},
   "outputs": [],
   "source": [
    "train_pred = knn_model.predict(X_std)\n",
    "# score_train = knn_model.decision_function(X_std)\n",
    "train_acc = accuracy_score(y, train_pred)\n",
    "tn, fp, fn, tp = confusion_matrix(y, train_pred).ravel()\n",
    "train_specificity = tn / (tn+fp)\n",
    "train_sensitivity = tp / (tp+fn)\n",
    "train_PPV = tp / (tp+fp)\n",
    "train_NPV = tn / (fn+tn)\n",
    "train_MCC = ((tp*tn)-(fp*fn))/math.sqrt((tp+fp)*(tp+fn)*(tn+fp)*(tn+fn))"
   ]
  },
  {
   "cell_type": "code",
   "execution_count": 20,
   "metadata": {},
   "outputs": [
    {
     "data": {
      "text/plain": [
       "0.8715154945521437"
      ]
     },
     "metadata": {},
     "output_type": "display_data"
    },
    {
     "data": {
      "text/plain": [
       "4738"
      ]
     },
     "metadata": {},
     "output_type": "display_data"
    },
    {
     "data": {
      "text/plain": [
       "440"
      ]
     },
     "metadata": {},
     "output_type": "display_data"
    },
    {
     "data": {
      "text/plain": [
       "468"
      ]
     },
     "metadata": {},
     "output_type": "display_data"
    },
    {
     "data": {
      "text/plain": [
       "1421"
      ]
     },
     "metadata": {},
     "output_type": "display_data"
    }
   ],
   "source": [
    "display(train_acc, tn, fp, fn, tp)"
   ]
  },
  {
   "cell_type": "code",
   "execution_count": 16,
   "metadata": {},
   "outputs": [
    {
     "data": {
      "text/plain": [
       "['./hw1/dialysis-binary-knn.model']"
      ]
     },
     "execution_count": 16,
     "metadata": {},
     "output_type": "execute_result"
    }
   ],
   "source": [
    "joblib.dump(svc_model, \"./hw1/dialysis-binary-knn.model\")"
   ]
  },
  {
   "cell_type": "code",
   "execution_count": null,
   "metadata": {},
   "outputs": [],
   "source": []
  }
 ],
 "metadata": {
  "kernelspec": {
   "display_name": "ml-exp",
   "language": "python",
   "name": "python3"
  },
  "language_info": {
   "codemirror_mode": {
    "name": "ipython",
    "version": 3
   },
   "file_extension": ".py",
   "mimetype": "text/x-python",
   "name": "python",
   "nbconvert_exporter": "python",
   "pygments_lexer": "ipython3",
   "version": "3.10.8"
  },
  "orig_nbformat": 4,
  "vscode": {
   "interpreter": {
    "hash": "ae0b0ae2c6da0805ef1653fbc63a03fd843bdd965278f8a5845e26c511ff151a"
   }
  }
 },
 "nbformat": 4,
 "nbformat_minor": 2
}
