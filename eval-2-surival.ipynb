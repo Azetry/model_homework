{
 "cells": [
  {
   "cell_type": "code",
   "execution_count": 6,
   "metadata": {},
   "outputs": [],
   "source": [
    "import pandas as pd\n",
    "import numpy as np\n",
    "import pandas as pd\n",
    "from sklearn.feature_selection import SelectKBest\n",
    "from sksurv.ensemble import RandomSurvivalForest\n",
    "from sksurv.linear_model import CoxnetSurvivalAnalysis\n",
    "from sklearn.pipeline import  make_pipeline\n",
    "from sksurv.metrics import concordance_index_censored,concordance_index_ipcw\n",
    "from sklearn.preprocessing import StandardScaler\n",
    "import joblib"
   ]
  },
  {
   "attachments": {},
   "cell_type": "markdown",
   "metadata": {},
   "source": [
    "從這邊修改設定與輸入檔案:\n",
    "- 測試資料\n",
    "- 模型\n",
    "- 挑選特徵\n",
    "- 輸出檔案\n",
    "- scaler\n",
    "---\n",
    "HW1 只要修改：\n",
    "- 模型\n",
    "- 挑選特徵\n",
    "- 輸出檔案\n",
    "\n",
    "**如果有人用 random forest 的模型先讓 ```auc = None```"
   ]
  },
  {
   "cell_type": "code",
   "execution_count": 7,
   "metadata": {},
   "outputs": [],
   "source": [
    "problems = [0,1,2,3,4,5,6]\n",
    "\n",
    "raw_df = pd.read_csv(\"./data/tcga/tcga_stad.csv\")\n",
    "# raw_df = pd.read_csv(\"./hw2/dialysis-regression-14-ind-xday.csv\")\n",
    "\n",
    "model = joblib.load(\"./hw2/tcga-survival-cox.model\")\n",
    "\n",
    "features = pd.read_csv(\"./hw2/tcga-survival-features.csv\")\n",
    "features = list(features.columns)\n",
    "# features = None\n",
    "\n",
    "outfile = \"./hw2/survival-cox-results.csv\"\n",
    "# outfile = \"./hw2/regression-svr-results.csv\"\n",
    "\n",
    "# if standardization\n",
    "# scaler = joblib.load(\"./hw2/dialysis-regression-14-std.bin\")\n",
    "scaler = None\n",
    "\n",
    "problem_type = 1 # 0: binary classification"
   ]
  },
  {
   "cell_type": "code",
   "execution_count": 8,
   "metadata": {},
   "outputs": [],
   "source": [
    "# Features number\n",
    "# features_num = len(features)"
   ]
  },
  {
   "cell_type": "code",
   "execution_count": 9,
   "metadata": {},
   "outputs": [],
   "source": [
    "X = raw_df.iloc[:,0:-3]\n",
    "y = raw_df[['Overall Survival Status', 'Overall Survival (Months)']]\n",
    "y_time = raw_df['Overall Survival (Months)']  #存活時間(Overall survival time)\n",
    "y_status = raw_df['Overall Survival Status'] #存活狀態(Overall survival status)"
   ]
  },
  {
   "attachments": {},
   "cell_type": "markdown",
   "metadata": {},
   "source": [
    "Predictions"
   ]
  },
  {
   "cell_type": "code",
   "execution_count": 10,
   "metadata": {},
   "outputs": [],
   "source": [
    "if scaler: X = pd.DataFrame(scaler.transform(X), columns=X.columns) # Scale\n",
    "if features: X = X[features] # feature selection"
   ]
  },
  {
   "cell_type": "code",
   "execution_count": 11,
   "metadata": {},
   "outputs": [],
   "source": [
    "# results_df = pd.DataFrame.from_dict(overall_scorer(problem_type)(model, X, labels), orient='index').T\n",
    "# results = overall_scorer(problem_type)(model, X, labels)\n",
    "pred = model.predict(X)\n",
    "results = concordance_index_censored(y_status>0,y_time,pred)"
   ]
  },
  {
   "cell_type": "code",
   "execution_count": 12,
   "metadata": {},
   "outputs": [
    {
     "name": "stdout",
     "output_type": "stream",
     "text": [
      "Save results:./hw2/survival-cox-results.csv\n"
     ]
    }
   ],
   "source": [
    "if outfile: \n",
    "    with open(outfile, 'w') as f:\n",
    "        f.write(f'c-index\\n{results}')\n",
    "    print(f\"Save results:{outfile}\")"
   ]
  },
  {
   "cell_type": "code",
   "execution_count": null,
   "metadata": {},
   "outputs": [],
   "source": []
  }
 ],
 "metadata": {
  "kernelspec": {
   "display_name": "ml-exp",
   "language": "python",
   "name": "python3"
  },
  "language_info": {
   "codemirror_mode": {
    "name": "ipython",
    "version": 3
   },
   "file_extension": ".py",
   "mimetype": "text/x-python",
   "name": "python",
   "nbconvert_exporter": "python",
   "pygments_lexer": "ipython3",
   "version": "3.10.8"
  },
  "orig_nbformat": 4,
  "vscode": {
   "interpreter": {
    "hash": "ae0b0ae2c6da0805ef1653fbc63a03fd843bdd965278f8a5845e26c511ff151a"
   }
  }
 },
 "nbformat": 4,
 "nbformat_minor": 2
}
