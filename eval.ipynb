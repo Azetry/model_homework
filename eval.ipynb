{
 "cells": [
  {
   "cell_type": "code",
   "execution_count": 1,
   "metadata": {},
   "outputs": [],
   "source": [
    "import pandas as pd\n",
    "import numpy as np\n",
    "import math\n",
    "import argparse\n",
    "import joblib\n",
    "from sklearn.metrics import confusion_matrix\n",
    "from sklearn.metrics import roc_auc_score\n",
    "from sklearn.model_selection import cross_val_score\n",
    "from sklearn.model_selection import cross_validate\n",
    "from sklearn.metrics import confusion_matrix"
   ]
  },
  {
   "cell_type": "code",
   "execution_count": 2,
   "metadata": {},
   "outputs": [],
   "source": [
    "def overall_scorer(type=0):\n",
    "    ''' create scorer\n",
    "    Args:\n",
    "        type: 0=svc(binary),\n",
    "    Returns:\n",
    "        function: scorer(clf, X, y)\n",
    "    '''\n",
    "    # def binary_classification_scorer(clf, X, y):\n",
    "    #     y_pred = clf.predict(X)\n",
    "    #     cm = confusion_matrix(y, y_pred)\n",
    "    #     y_score = clf.decision_function(X)\n",
    "    #     auc = roc_auc_score(y, y_score)\n",
    "    #     return {'tn': cm[0, 0], 'fp': cm[0, 1],'fn': cm[1, 0], 'tp': cm[1, 1], 'auc': auc}\n",
    "\n",
    "    def binary_classification_scorer(clf, X, y):\n",
    "        y_pred = clf.predict(X)\n",
    "        cm = confusion_matrix(y, y_pred)\n",
    "        tn, fp, fn, tp = cm[0, 0], cm[0, 1], cm[1, 0], cm[1, 1]\n",
    "        accuracy = (tp+tn)/(tn+fp+fn+tp)\n",
    "        precision = tp/(tp+fp)\n",
    "        sensitivity = tp/(tp+fn)\n",
    "        specificity = tn/(tn+fp)\n",
    "        PPV = tp / (tp+fp)\n",
    "        NPV = tn / (fn+tn)\n",
    "        MCC = ((tp*tn)-(fp*fn))/math.sqrt((tp+fp)*(tp+fn)*(tn+fp)*(tn+fn))\n",
    "\n",
    "        y_score = clf.decision_function(X)\n",
    "        auc = roc_auc_score(y, y_score)\n",
    "        results = {\n",
    "            'tn':tn, \n",
    "            'fp':fp, \n",
    "            'fn':fn, \n",
    "            'tp':tp,\n",
    "            'auc':auc, \n",
    "            'accuracy':accuracy, \n",
    "            'precision':precision, \n",
    "            'sensitivity':sensitivity, \n",
    "            'specificity':specificity, \n",
    "            'MCC':MCC, \n",
    "            'PPV':PPV, \n",
    "            \"NPV\":NPV,\n",
    "        }\n",
    "        return results\n",
    "\n",
    "    if type==0: return binary_classification_scorer\n",
    "    # elif type==1: return binary_classification_scorer"
   ]
  },
  {
   "attachments": {},
   "cell_type": "markdown",
   "metadata": {},
   "source": [
    "從這邊修改設定與輸入檔案:\n",
    "- 測試資料\n",
    "- 模型\n",
    "- 挑選特徵\n",
    "- 輸出檔案\n",
    "- scaler\n",
    "---\n",
    "HW1 只要修改：\n",
    "- 模型\n",
    "- 挑選特徵\n",
    "- 輸出檔案\n",
    "\n",
    "**如果有人用 random forest 的模型先讓 ```auc = None```"
   ]
  },
  {
   "cell_type": "code",
   "execution_count": 3,
   "metadata": {},
   "outputs": [],
   "source": [
    "problems = [0,1,2,3,4,5,6]\n",
    "\n",
    "raw_df = pd.read_csv(\"./hw1/dialysis-binary-14-ind-xday.csv\")\n",
    "\n",
    "model = joblib.load(\"./hw1/dialysis-binary-svc.model\")\n",
    "\n",
    "features = pd.read_csv(\"./hw1/dialysis-binary-features.csv\")\n",
    "features = list(features.columns)\n",
    "\n",
    "outfile = \"./hw1/dialysis-binary-svc-results.csv\"\n",
    "\n",
    "# if standardization\n",
    "scaler = joblib.load(\"./hw1/dialysis-binary-std.bin\")\n",
    "\n",
    "problem_type = 0 # 0: binary classification"
   ]
  },
  {
   "cell_type": "code",
   "execution_count": 4,
   "metadata": {},
   "outputs": [],
   "source": [
    "# Features number\n",
    "features_num = len(features)"
   ]
  },
  {
   "attachments": {},
   "cell_type": "markdown",
   "metadata": {},
   "source": [
    "Predictions"
   ]
  },
  {
   "cell_type": "code",
   "execution_count": 5,
   "metadata": {},
   "outputs": [],
   "source": [
    "X = raw_df.drop(columns=['label'])\n",
    "if scaler: X = pd.DataFrame(scaler.transform(X), columns=X.columns) # Scale\n",
    "X = X[features] # feature selection\n",
    "labels = raw_df.label\n",
    "preds = model.predict(X)"
   ]
  },
  {
   "cell_type": "code",
   "execution_count": 6,
   "metadata": {},
   "outputs": [],
   "source": [
    "results = overall_scorer(0)(model, X, labels) # type 0 = binary classification"
   ]
  },
  {
   "cell_type": "code",
   "execution_count": 7,
   "metadata": {},
   "outputs": [],
   "source": [
    "results_df = pd.DataFrame.from_dict(overall_scorer(0)(model, X, labels), orient='index').T"
   ]
  },
  {
   "cell_type": "code",
   "execution_count": 8,
   "metadata": {},
   "outputs": [
    {
     "name": "stdout",
     "output_type": "stream",
     "text": [
      "Save results:./hw1/dialysis-binary-svc-results.csv\n"
     ]
    }
   ],
   "source": [
    "if outfile: \n",
    "    results_df.fillna(\"\").to_csv(outfile, index=False)\n",
    "    print(f\"Save results:{outfile}\")"
   ]
  },
  {
   "cell_type": "code",
   "execution_count": null,
   "metadata": {},
   "outputs": [],
   "source": []
  }
 ],
 "metadata": {
  "kernelspec": {
   "display_name": "ml-exp",
   "language": "python",
   "name": "python3"
  },
  "language_info": {
   "codemirror_mode": {
    "name": "ipython",
    "version": 3
   },
   "file_extension": ".py",
   "mimetype": "text/x-python",
   "name": "python",
   "nbconvert_exporter": "python",
   "pygments_lexer": "ipython3",
   "version": "3.10.8"
  },
  "orig_nbformat": 4,
  "vscode": {
   "interpreter": {
    "hash": "ae0b0ae2c6da0805ef1653fbc63a03fd843bdd965278f8a5845e26c511ff151a"
   }
  }
 },
 "nbformat": 4,
 "nbformat_minor": 2
}
