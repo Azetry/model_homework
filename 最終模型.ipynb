{
 "cells": [
  {
   "cell_type": "code",
   "execution_count": 1,
   "id": "d3f62d55",
   "metadata": {},
   "outputs": [],
   "source": [
    "import pandas as pd\n",
    "import numpy as np\n",
    "import matplotlib.pyplot as plt\n",
    "from sklearn.model_selection import train_test_split\n",
    "from sklearn import preprocessing\n",
    "from sklearn.svm import SVC\n",
    "from sklearn.model_selection import GridSearchCV\n",
    "from sklearn.metrics import plot_confusion_matrix\n",
    "from sklearn.metrics import accuracy_score,confusion_matrix\n",
    "from scipy.stats import chi2_contingency\n",
    "from scipy.stats import mannwhitneyu\n",
    "import math\n",
    "from sklearn.metrics import roc_curve, auc\n",
    "from sklearn.model_selection import cross_val_score\n",
    "from sklearn.model_selection import cross_validate\n",
    "from sklearn.metrics import make_scorer\n",
    "from sklearn.metrics import confusion_matrix"
   ]
  },
  {
   "cell_type": "code",
   "execution_count": 3,
   "id": "894c02c0",
   "metadata": {},
   "outputs": [],
   "source": [
    "######### 參數設定1 #########\n",
    "input_type = 1 # 0: xlsx \n",
    "               # 1: csv \n",
    "               # 2: libsvm檔\n",
    "\n",
    "header = 0 # 如果有header填0，沒有的話填None\n",
    "           # 檔案是libsvm檔的話隨便填\n",
    "    \n",
    "scale = 1 # 1: 需要scale, 其它:不需要scale\n",
    "\n",
    "feature_select = 1 # 0: 無, 1: 有\n",
    "\n",
    "# 如果 feature_select = 1\n",
    "feature_num = np.array([[9,10 ,13 ,15 ,17 ,18 ,23 ,34 ,35 ,39 ,58 ,61 ,62 ,73 ,89 ]])\n",
    "#feature_num = np.array([[1,8,10,11,13,19,28,29,30,35,43,53]])\n",
    "#feature_num = np.array([[1,2,4,5,7,8,9,10,11,13,14,15,18,19,20,21,22,24,26,27,28,29,30,39,42,43,45,46,49,51,52]])\n",
    "#feature_num = np.array([[1,2,4,5,7,8,9,10,11,13,14,15,18,19,20,21,22,24,26,27,28,29,30,39,42,43,45,46,49,51,52]])\n",
    "#feature_num = np.array([[1,2,4,5,7,8,9,10,11,13,14,15,18,19,20,21,22,24,26,27,28,29,30,39,42,43,45,46,49,51,52]])\n",
    "#feature_num = np.array([[1,2,4,5,7,8,9,10,11,13,14,15,18,19,20,21,22,24,26,27,28,29,30,39,42,43,45,46,49,51,52]])\n",
    "\n",
    "\n",
    "train_name = \"D:/交大生資課程/計算建模/HW01/train_dialysis_tr.csv\"  #訓練集名稱\n",
    "test_name = \"D:/交大生資課程/計算建模/HW01/train_dialysis_te.csv\"     #測試集名稱\n",
    "\n",
    "best_kernel = 'rbf'\n",
    "best_c = 256\n",
    "best_gamma = 16"
   ]
  },
  {
   "cell_type": "code",
   "execution_count": 4,
   "id": "2eec2d7f",
   "metadata": {},
   "outputs": [],
   "source": [
    "from sklearn.metrics import roc_curve, auc\n",
    "import matplotlib.pyplot as plt\n",
    "def ROC_and_AUC(label,score,name):\n",
    "    fpr, tpr , _ = roc_curve(label, score)\n",
    "    roc_auc = auc(fpr, tpr)\n",
    "    name = name + '_auc = ' + str(roc_auc.round(3))\n",
    "    #plt.figure()\n",
    "    lw = 2\n",
    "#    plt.plot(fpr, tpr, color='darkorange',\n",
    "#             lw=lw, label=name)\n",
    "    plt.plot(fpr, tpr, lw=lw, label=name)\n",
    "    plt.xlim([0.0, 1.0])\n",
    "    plt.ylim([0.0, 1.05])\n",
    "    plt.xlabel('False Positive Rate')\n",
    "    plt.ylabel('True Positive Rate')\n",
    "    plt.title('ROC curve')\n",
    "    plt.legend(loc=\"lower right\")\n",
    "   # plt.show()"
   ]
  },
  {
   "cell_type": "code",
   "execution_count": 5,
   "id": "f43fc19b",
   "metadata": {},
   "outputs": [],
   "source": [
    "from sklearn.metrics import accuracy_score,confusion_matrix\n",
    "from sklearn.svm import SVC\n",
    "from sklearn import linear_model\n",
    "def model_evaluation_result(train_X,train_Y,test_X,test_Y,model,roctrainname,roctestname):\n",
    "    \n",
    "    model.fit(train_X, train_Y)\n",
    "    \n",
    "    train_pred = model.predict(train_X)\n",
    "    score0 = model.decision_function(train_X)\n",
    "    train_acc = accuracy_score(train_Y, train_pred)\n",
    "    tn, fp, fn, tp = confusion_matrix(train_Y, train_pred).ravel()\n",
    "    train_specificity = tn / (tn+fp)\n",
    "    train_sensitivity = tp / (tp+fn)\n",
    "    train_PPV = tp / (tp+fp)\n",
    "    train_NPV = tn / (fn+tn)\n",
    "    train_MCC = ((tp*tn)-(fp*fn))/math.sqrt((tp+fp)*(tp+fn)*(tn+fp)*(tn+fn))\n",
    "    #print(\"Training:\")\n",
    "    #print(\"{:>20}{:>20}{:>20}{:>20}\".format(\"Accuracy\",\"Specificity\",\"Sensitivity\",\"MCC\"))\n",
    "    #print(\"{:>20.3f}{:>20.3f}{:>20.3f}{:>20.3f}\".format(train_acc,train_specificity,train_sensitivity,train_MCC))\n",
    "    ROC_and_AUC(train_Y,score0,roctrainname)\n",
    "    \n",
    "    test_pred = model.predict(test_X)\n",
    "    score = model.decision_function(test_X)\n",
    "    test_acc = accuracy_score(test_Y, test_pred)\n",
    "    tn, fp, fn, tp = confusion_matrix(test_Y, test_pred).ravel()\n",
    "    test_specificity = tn / (tn+fp)\n",
    "    test_sensitivity = tp / (tp+fn)\n",
    "    test_PPV = tp / (tp+fp)\n",
    "    test_NPV = tn / (fn+tn)\n",
    "    test_MCC = ((tp*tn)-(fp*fn))/math.sqrt((tp+fp)*(tp+fn)*(tn+fp)*(tn+fn))\n",
    "    #print(\"Test:\")\n",
    "    #print(\"{:>20}{:>20}{:>20}\".format(\"Accuracy\",\"Specificity\",\"Sensitivity\",\"MCC\"))\n",
    "    #print(\"{:>20.3f}{:>20.3f}{:>20.3f}\".format(test_acc,test_specificity,test_sensitivity,test_MCC))\n",
    "    ROC_and_AUC(test_Y,score,roctestname)\n",
    "    result = [{\"Accuracy\":train_acc,\"Specificity\":train_specificity, \"Sensitivity\":train_sensitivity,\n",
    "               \"MCC\":train_MCC, \"PPV\":train_PPV, \"NPV\":train_NPV},\n",
    "          {\"Accuracy\":test_acc,\"Specificity\":test_specificity, \"Sensitivity\":test_sensitivity, \n",
    "           \"MCC\":test_MCC, \"PPV\":test_PPV, \"NPV\":test_NPV}]\n",
    "    df = pd.DataFrame(result)\n",
    "    df.index = [\"Training\", \"Test\"]\n",
    "    df.round(2)\n",
    "    return df, score0, train_pred, score, test_pred"
   ]
  },
  {
   "cell_type": "code",
   "execution_count": 6,
   "id": "34f63277",
   "metadata": {},
   "outputs": [],
   "source": [
    "## 讀檔\n",
    "if input_type == 0:\n",
    "    train_df = pd.read_excel(train_name,header = header)\n",
    "    test_df = pd.read_excel(test_name, header = header)\n",
    "elif input_type == 1:\n",
    "    train_df = pd.read_csv(train_name,header = header)\n",
    "    test_df = pd.read_csv(test_name, header = header)\n",
    "\n",
    "elif input_type == 2:\n",
    "    x_train,y_train=ds.load_svmlight_file(train_name)\n",
    "    x_test,y_test=ds.load_svmlight_file(test_name)\n",
    "    x_train = np.array(x_train.todense())\n",
    "    x_test = np.array(x_test.todense())\n",
    "    y_train = np.expand_dims(y_train,axis=1)\n",
    "    y_test = np.expand_dims(y_test,axis=1)\n",
    "    train_df = pd.DataFrame(np.append(x_train,y_train,axis=1))\n",
    "    test_df = pd.DataFrame(np.append(x_test,y_test,axis=1))\n",
    "else :\n",
    "    print(\"ERROR!!!!!!!!!!!!!!!!!!!!!!!\")"
   ]
  },
  {
   "cell_type": "code",
   "execution_count": 7,
   "id": "a50d43b1",
   "metadata": {},
   "outputs": [],
   "source": [
    "## Scale\n",
    "train_X = train_df.iloc[:,0:-1]\n",
    "train_Y = train_df.iloc[:,-1]\n",
    "test_X = test_df.iloc[:,0:-1]\n",
    "test_Y = test_df.iloc[:,-1]\n",
    "if scale == 1:\n",
    "    scaler = preprocessing.StandardScaler().fit(train_X)\n",
    "    #scaler = preprocessing.MinMaxScaler().fit(train_X)\n",
    "    train_X = scaler.transform(train_X)\n",
    "    test_X = scaler.transform(test_X)"
   ]
  },
  {
   "cell_type": "code",
   "execution_count": 8,
   "id": "bb507e2a",
   "metadata": {},
   "outputs": [],
   "source": [
    "## Feature select \n",
    "mask = np.ones(np.size(train_X,1),dtype=bool)\n",
    "\n",
    "if feature_select == 1:\n",
    "    mask = np.zeros(np.size(train_X,1),dtype=bool)\n",
    "    mask[np.array(feature_num)-1] = True\n",
    "mask\n",
    "train_X = train_X[:,mask]\n",
    "test_X = test_X[:,mask]"
   ]
  },
  {
   "cell_type": "code",
   "execution_count": 9,
   "id": "e96840f6",
   "metadata": {},
   "outputs": [
    {
     "data": {
      "image/png": "[encoded data removed]",
      "text/plain": [
       "<Figure size 432x288 with 1 Axes>"
      ]
     },
     "metadata": {
      "needs_background": "light"
     },
     "output_type": "display_data"
    },
    {
     "name": "stdout",
     "output_type": "stream",
     "text": [
      "          Accuracy  Specificity  Sensitivity    MCC    PPV    NPV\n",
      "Training      0.98        0.988        0.960  0.950  0.967  0.985\n",
      "Test          0.93        0.950        0.872  0.819  0.861  0.954\n"
     ]
    }
   ],
   "source": [
    "# SVM \n",
    "lksvc_model = SVC(kernel = best_kernel,C = best_c,gamma = best_gamma)\n",
    "plt.figure()\n",
    "df_lksvc, tr_predsc, tr_predlabel, te_predsc, te_predlabel = model_evaluation_result(train_X,train_Y,test_X,test_Y,\n",
    "                                                                                   lksvc_model,'train','test')\n",
    "plt.show()\n",
    "print(df_lksvc.round(3))"
   ]
  },
  {
   "cell_type": "code",
   "execution_count": 10,
   "id": "06d0c4d7",
   "metadata": {},
   "outputs": [
    {
     "name": "stdout",
     "output_type": "stream",
     "text": [
      "[697 690 699 695 703] 697\n",
      "[26 32 23 27 19] 25\n",
      "[40 40 29 36 49] 39\n",
      "[227 227 238 231 218] 228\n",
      "Cross Validation accuracy: 0.9352881698685541\n",
      "Cross Validation precision: 0.9011857707509882\n",
      "Cross Validation sensitivity: 0.8539325842696629\n",
      "Cross Validation specificity: 0.9653739612188366\n",
      "Cross Validation MCC: 0.8336264506794526\n",
      "Cross Validation Matrix\n",
      "[[228  25]\n",
      " [ 39 697]]\n"
     ]
    }
   ],
   "source": [
    "#cv可設定要多少fold  #scoring可設定'f1_macro'、'recall_macro'、'precision_macro'、'accuracy'...\n",
    "#scoring參數可參考:https://scikit-learn.org/stable/modules/model_evaluation.html\n",
    "def confusion_matrix_scorer(clf, X, y):\n",
    "    y_pred = clf.predict(X)\n",
    "    cm = confusion_matrix(y, y_pred)\n",
    "    return {'tn': cm[0, 0], 'fp': cm[0, 1],'fn': cm[1, 0], 'tp': cm[1, 1]}\n",
    "\n",
    "cv_results = cross_validate(lksvc_model, train_X, train_Y, cv = 5, scoring = confusion_matrix_scorer)\n",
    "tn = round(cv_results['test_tn'].mean())\n",
    "fp = round(cv_results['test_fp'].mean())\n",
    "fn = round(cv_results['test_fn'].mean())\n",
    "tp = round(cv_results['test_tp'].mean())\n",
    "accuracy = (tp+tn)/(tn+fp+fn+tp)\n",
    "precision = tp/(tp+fp)\n",
    "sensitivity = tp/(tp+fn)\n",
    "specificity = tn/(tn+fp)\n",
    "MCC = ((tp*tn)-(fp*fn))/math.sqrt((tp+fp)*(tp+fn)*(tn+fp)*(tn+fn))\n",
    "print(cv_results['test_tn'], round(cv_results['test_tn'].mean()))\n",
    "print(cv_results['test_fp'], round(cv_results['test_fp'].mean()))\n",
    "print(cv_results['test_fn'], round(cv_results['test_fn'].mean()))\n",
    "print(cv_results['test_tp'], round(cv_results['test_tp'].mean()))\n",
    "print('Cross Validation accuracy:', accuracy)\n",
    "print('Cross Validation precision:', precision)\n",
    "print('Cross Validation sensitivity:', sensitivity)\n",
    "print('Cross Validation specificity:', specificity)\n",
    "print('Cross Validation MCC:', MCC)\n",
    "print('Cross Validation Matrix')\n",
    "print(np.array([[round(cv_results['test_tp'].mean()), round(cv_results['test_fp'].mean())], \n",
    "                [ round(cv_results['test_fn'].mean()), round(cv_results['test_tn'].mean())]]))"
   ]
  },
  {
   "cell_type": "code",
   "execution_count": 13,
   "id": "12a257eb",
   "metadata": {},
   "outputs": [],
   "source": [
    "#c73,c58,c62 ,c61, d17, d13 ,d10, d15, d9 ,d23 ,d35, c89 ,d34 ,d18, d39"
   ]
  },
  {
   "cell_type": "code",
   "execution_count": 14,
   "id": "1c9e4d60",
   "metadata": {},
   "outputs": [],
   "source": [
    "#feature_num = np.array([[9,10 ,13 ,15 ,17 ,18 ,23 ,34 ,35 ,39 ,58 ,61 ,62 ,73 ,89 ]])\n"
   ]
  },
  {
   "cell_type": "code",
   "execution_count": null,
   "id": "4bf35186",
   "metadata": {},
   "outputs": [],
   "source": []
  }
 ],
 "metadata": {
  "kernelspec": {
   "display_name": "Python 3 (ipykernel)",
   "language": "python",
   "name": "python3"
  },
  "language_info": {
   "codemirror_mode": {
    "name": "ipython",
    "version": 3
   },
   "file_extension": ".py",
   "mimetype": "text/x-python",
   "name": "python",
   "nbconvert_exporter": "python",
   "pygments_lexer": "ipython3",
   "version": "3.9.7"
  }
 },
 "nbformat": 4,
 "nbformat_minor": 5
}
